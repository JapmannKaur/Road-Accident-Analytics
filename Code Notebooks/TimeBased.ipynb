{
 "cells": [
  {
   "cell_type": "code",
   "execution_count": 1,
   "id": "4c14683a",
   "metadata": {},
   "outputs": [],
   "source": [
    "import pandas as pd\n",
    "import seaborn as sns"
   ]
  },
  {
   "cell_type": "code",
   "execution_count": 2,
   "id": "9c0ae6b1",
   "metadata": {},
   "outputs": [],
   "source": [
    "Mydata2 = pd.read_excel(\"C:/Users/kaurb/Downloads/Accident_Dataset.xlsx\")\n",
    "Mydata2.to_csv (\"Mydata2.csv\", index = None,header=True)"
   ]
  },
  {
   "cell_type": "code",
   "execution_count": 49,
   "id": "9b061821",
   "metadata": {},
   "outputs": [
    {
     "data": {
      "text/html": [
       "<div>\n",
       "<style scoped>\n",
       "    .dataframe tbody tr th:only-of-type {\n",
       "        vertical-align: middle;\n",
       "    }\n",
       "\n",
       "    .dataframe tbody tr th {\n",
       "        vertical-align: top;\n",
       "    }\n",
       "\n",
       "    .dataframe thead th {\n",
       "        text-align: right;\n",
       "    }\n",
       "</style>\n",
       "<table border=\"1\" class=\"dataframe\">\n",
       "  <thead>\n",
       "    <tr style=\"text-align: right;\">\n",
       "      <th></th>\n",
       "      <th>ACCIDENT_NO</th>\n",
       "      <th>ACCIDENT_DATE</th>\n",
       "      <th>ACCIDENT_TIME</th>\n",
       "      <th>ALCOHOLTIME</th>\n",
       "      <th>ACCIDENT_TYPE</th>\n",
       "      <th>DAY_OF_WEEK</th>\n",
       "      <th>HIT_RUN_FLAG</th>\n",
       "      <th>LIGHT_CONDITION</th>\n",
       "      <th>POLICE_ATTEND</th>\n",
       "      <th>SEVERITY</th>\n",
       "      <th>...</th>\n",
       "      <th>OLD_DRIVER</th>\n",
       "      <th>YOUNG_DRIVER</th>\n",
       "      <th>ALCOHOL_RELATED</th>\n",
       "      <th>UNLICENCSED</th>\n",
       "      <th>NO_OF_VEHICLES</th>\n",
       "      <th>HEAVYVEHICLE</th>\n",
       "      <th>PASSENGERVEHICLE</th>\n",
       "      <th>MOTORCYCLE</th>\n",
       "      <th>PUBLICVEHICLE</th>\n",
       "      <th>STAT_DIV_NAME</th>\n",
       "    </tr>\n",
       "  </thead>\n",
       "  <tbody>\n",
       "    <tr>\n",
       "      <th>0</th>\n",
       "      <td>T20170011699</td>\n",
       "      <td>2017-03-27 00:00:00</td>\n",
       "      <td>14.20.00</td>\n",
       "      <td>1</td>\n",
       "      <td>1</td>\n",
       "      <td>6.0</td>\n",
       "      <td>0</td>\n",
       "      <td>1</td>\n",
       "      <td>1</td>\n",
       "      <td>1</td>\n",
       "      <td>...</td>\n",
       "      <td>0</td>\n",
       "      <td>1</td>\n",
       "      <td>0</td>\n",
       "      <td>0</td>\n",
       "      <td>2</td>\n",
       "      <td>0</td>\n",
       "      <td>2</td>\n",
       "      <td>0</td>\n",
       "      <td>0</td>\n",
       "      <td>1.0</td>\n",
       "    </tr>\n",
       "    <tr>\n",
       "      <th>1</th>\n",
       "      <td>T20170011706</td>\n",
       "      <td>2017-03-25 00:00:00</td>\n",
       "      <td>19.00.00</td>\n",
       "      <td>1</td>\n",
       "      <td>1</td>\n",
       "      <td>4.0</td>\n",
       "      <td>0</td>\n",
       "      <td>2</td>\n",
       "      <td>0</td>\n",
       "      <td>2</td>\n",
       "      <td>...</td>\n",
       "      <td>0</td>\n",
       "      <td>1</td>\n",
       "      <td>0</td>\n",
       "      <td>1</td>\n",
       "      <td>2</td>\n",
       "      <td>0</td>\n",
       "      <td>2</td>\n",
       "      <td>0</td>\n",
       "      <td>0</td>\n",
       "      <td>2.0</td>\n",
       "    </tr>\n",
       "    <tr>\n",
       "      <th>2</th>\n",
       "      <td>T20170011709</td>\n",
       "      <td>2017-03-27 00:00:00</td>\n",
       "      <td>15.00.00</td>\n",
       "      <td>1</td>\n",
       "      <td>2</td>\n",
       "      <td>6.0</td>\n",
       "      <td>0</td>\n",
       "      <td>1</td>\n",
       "      <td>0</td>\n",
       "      <td>1</td>\n",
       "      <td>...</td>\n",
       "      <td>0</td>\n",
       "      <td>0</td>\n",
       "      <td>0</td>\n",
       "      <td>0</td>\n",
       "      <td>2</td>\n",
       "      <td>0</td>\n",
       "      <td>1</td>\n",
       "      <td>0</td>\n",
       "      <td>0</td>\n",
       "      <td>2.0</td>\n",
       "    </tr>\n",
       "    <tr>\n",
       "      <th>3</th>\n",
       "      <td>T20170011710</td>\n",
       "      <td>2017-03-27 00:00:00</td>\n",
       "      <td>16.10.00</td>\n",
       "      <td>1</td>\n",
       "      <td>1</td>\n",
       "      <td>6.0</td>\n",
       "      <td>0</td>\n",
       "      <td>1</td>\n",
       "      <td>1</td>\n",
       "      <td>1</td>\n",
       "      <td>...</td>\n",
       "      <td>0</td>\n",
       "      <td>0</td>\n",
       "      <td>0</td>\n",
       "      <td>0</td>\n",
       "      <td>2</td>\n",
       "      <td>0</td>\n",
       "      <td>1</td>\n",
       "      <td>1</td>\n",
       "      <td>0</td>\n",
       "      <td>2.0</td>\n",
       "    </tr>\n",
       "    <tr>\n",
       "      <th>4</th>\n",
       "      <td>T20170011711</td>\n",
       "      <td>2017-03-19 00:00:00</td>\n",
       "      <td>11.00.00</td>\n",
       "      <td>0</td>\n",
       "      <td>3</td>\n",
       "      <td>5.0</td>\n",
       "      <td>0</td>\n",
       "      <td>1</td>\n",
       "      <td>0</td>\n",
       "      <td>1</td>\n",
       "      <td>...</td>\n",
       "      <td>0</td>\n",
       "      <td>0</td>\n",
       "      <td>0</td>\n",
       "      <td>0</td>\n",
       "      <td>1</td>\n",
       "      <td>0</td>\n",
       "      <td>0</td>\n",
       "      <td>1</td>\n",
       "      <td>0</td>\n",
       "      <td>1.0</td>\n",
       "    </tr>\n",
       "    <tr>\n",
       "      <th>5</th>\n",
       "      <td>T20170011713</td>\n",
       "      <td>2017-03-27 00:00:00</td>\n",
       "      <td>17.05.00</td>\n",
       "      <td>1</td>\n",
       "      <td>1</td>\n",
       "      <td>6.0</td>\n",
       "      <td>0</td>\n",
       "      <td>1</td>\n",
       "      <td>1</td>\n",
       "      <td>1</td>\n",
       "      <td>...</td>\n",
       "      <td>0</td>\n",
       "      <td>0</td>\n",
       "      <td>0</td>\n",
       "      <td>0</td>\n",
       "      <td>2</td>\n",
       "      <td>0</td>\n",
       "      <td>1</td>\n",
       "      <td>0</td>\n",
       "      <td>0</td>\n",
       "      <td>2.0</td>\n",
       "    </tr>\n",
       "    <tr>\n",
       "      <th>6</th>\n",
       "      <td>T20170011727</td>\n",
       "      <td>2017-02-27 00:00:00</td>\n",
       "      <td>10.20.00</td>\n",
       "      <td>0</td>\n",
       "      <td>4</td>\n",
       "      <td>6.0</td>\n",
       "      <td>0</td>\n",
       "      <td>1</td>\n",
       "      <td>0</td>\n",
       "      <td>2</td>\n",
       "      <td>...</td>\n",
       "      <td>0</td>\n",
       "      <td>0</td>\n",
       "      <td>0</td>\n",
       "      <td>0</td>\n",
       "      <td>1</td>\n",
       "      <td>0</td>\n",
       "      <td>0</td>\n",
       "      <td>1</td>\n",
       "      <td>0</td>\n",
       "      <td>1.0</td>\n",
       "    </tr>\n",
       "    <tr>\n",
       "      <th>7</th>\n",
       "      <td>T20170011730</td>\n",
       "      <td>2017-03-27 00:00:00</td>\n",
       "      <td>18.00.00</td>\n",
       "      <td>1</td>\n",
       "      <td>1</td>\n",
       "      <td>6.0</td>\n",
       "      <td>0</td>\n",
       "      <td>2</td>\n",
       "      <td>1</td>\n",
       "      <td>2</td>\n",
       "      <td>...</td>\n",
       "      <td>0</td>\n",
       "      <td>0</td>\n",
       "      <td>0</td>\n",
       "      <td>0</td>\n",
       "      <td>2</td>\n",
       "      <td>0</td>\n",
       "      <td>2</td>\n",
       "      <td>0</td>\n",
       "      <td>0</td>\n",
       "      <td>2.0</td>\n",
       "    </tr>\n",
       "    <tr>\n",
       "      <th>8</th>\n",
       "      <td>T20170011739</td>\n",
       "      <td>2017-03-27 00:00:00</td>\n",
       "      <td>19.15.00</td>\n",
       "      <td>1</td>\n",
       "      <td>1</td>\n",
       "      <td>6.0</td>\n",
       "      <td>0</td>\n",
       "      <td>2</td>\n",
       "      <td>1</td>\n",
       "      <td>1</td>\n",
       "      <td>...</td>\n",
       "      <td>0</td>\n",
       "      <td>0</td>\n",
       "      <td>0</td>\n",
       "      <td>0</td>\n",
       "      <td>2</td>\n",
       "      <td>0</td>\n",
       "      <td>2</td>\n",
       "      <td>0</td>\n",
       "      <td>0</td>\n",
       "      <td>2.0</td>\n",
       "    </tr>\n",
       "    <tr>\n",
       "      <th>9</th>\n",
       "      <td>T20170011740</td>\n",
       "      <td>2017-03-27 00:00:00</td>\n",
       "      <td>16.35.00</td>\n",
       "      <td>1</td>\n",
       "      <td>1</td>\n",
       "      <td>6.0</td>\n",
       "      <td>0</td>\n",
       "      <td>1</td>\n",
       "      <td>1</td>\n",
       "      <td>2</td>\n",
       "      <td>...</td>\n",
       "      <td>0</td>\n",
       "      <td>0</td>\n",
       "      <td>1</td>\n",
       "      <td>0</td>\n",
       "      <td>2</td>\n",
       "      <td>0</td>\n",
       "      <td>2</td>\n",
       "      <td>0</td>\n",
       "      <td>0</td>\n",
       "      <td>2.0</td>\n",
       "    </tr>\n",
       "  </tbody>\n",
       "</table>\n",
       "<p>10 rows × 42 columns</p>\n",
       "</div>"
      ],
      "text/plain": [
       "    ACCIDENT_NO        ACCIDENT_DATE ACCIDENT_TIME  ALCOHOLTIME  \\\n",
       "0  T20170011699  2017-03-27 00:00:00      14.20.00            1   \n",
       "1  T20170011706  2017-03-25 00:00:00      19.00.00            1   \n",
       "2  T20170011709  2017-03-27 00:00:00      15.00.00            1   \n",
       "3  T20170011710  2017-03-27 00:00:00      16.10.00            1   \n",
       "4  T20170011711  2017-03-19 00:00:00      11.00.00            0   \n",
       "5  T20170011713  2017-03-27 00:00:00      17.05.00            1   \n",
       "6  T20170011727  2017-02-27 00:00:00      10.20.00            0   \n",
       "7  T20170011730  2017-03-27 00:00:00      18.00.00            1   \n",
       "8  T20170011739  2017-03-27 00:00:00      19.15.00            1   \n",
       "9  T20170011740  2017-03-27 00:00:00      16.35.00            1   \n",
       "\n",
       "   ACCIDENT_TYPE  DAY_OF_WEEK  HIT_RUN_FLAG  LIGHT_CONDITION  POLICE_ATTEND  \\\n",
       "0              1          6.0             0                1              1   \n",
       "1              1          4.0             0                2              0   \n",
       "2              2          6.0             0                1              0   \n",
       "3              1          6.0             0                1              1   \n",
       "4              3          5.0             0                1              0   \n",
       "5              1          6.0             0                1              1   \n",
       "6              4          6.0             0                1              0   \n",
       "7              1          6.0             0                2              1   \n",
       "8              1          6.0             0                2              1   \n",
       "9              1          6.0             0                1              1   \n",
       "\n",
       "   SEVERITY  ...  OLD_DRIVER  YOUNG_DRIVER  ALCOHOL_RELATED  UNLICENCSED  \\\n",
       "0         1  ...           0             1                0            0   \n",
       "1         2  ...           0             1                0            1   \n",
       "2         1  ...           0             0                0            0   \n",
       "3         1  ...           0             0                0            0   \n",
       "4         1  ...           0             0                0            0   \n",
       "5         1  ...           0             0                0            0   \n",
       "6         2  ...           0             0                0            0   \n",
       "7         2  ...           0             0                0            0   \n",
       "8         1  ...           0             0                0            0   \n",
       "9         2  ...           0             0                1            0   \n",
       "\n",
       "   NO_OF_VEHICLES  HEAVYVEHICLE  PASSENGERVEHICLE  MOTORCYCLE  PUBLICVEHICLE  \\\n",
       "0               2             0                 2           0              0   \n",
       "1               2             0                 2           0              0   \n",
       "2               2             0                 1           0              0   \n",
       "3               2             0                 1           1              0   \n",
       "4               1             0                 0           1              0   \n",
       "5               2             0                 1           0              0   \n",
       "6               1             0                 0           1              0   \n",
       "7               2             0                 2           0              0   \n",
       "8               2             0                 2           0              0   \n",
       "9               2             0                 2           0              0   \n",
       "\n",
       "   STAT_DIV_NAME  \n",
       "0            1.0  \n",
       "1            2.0  \n",
       "2            2.0  \n",
       "3            2.0  \n",
       "4            1.0  \n",
       "5            2.0  \n",
       "6            1.0  \n",
       "7            2.0  \n",
       "8            2.0  \n",
       "9            2.0  \n",
       "\n",
       "[10 rows x 42 columns]"
      ]
     },
     "execution_count": 49,
     "metadata": {},
     "output_type": "execute_result"
    }
   ],
   "source": [
    "df = pd.read_csv(\"Mydata2.csv\")\n",
    "df.head(n=10)"
   ]
  },
  {
   "cell_type": "code",
   "execution_count": 50,
   "id": "07c10c6a",
   "metadata": {},
   "outputs": [],
   "source": [
    "X = df.iloc[:,3:].values"
   ]
  },
  {
   "cell_type": "code",
   "execution_count": 51,
   "id": "454fe3f2",
   "metadata": {},
   "outputs": [],
   "source": [
    "X_n = df[['LGA_NAME','TOTAL_PERSONS']]\n",
    "X_n = X_n.iloc[:,:].values"
   ]
  },
  {
   "cell_type": "code",
   "execution_count": 52,
   "id": "3fd010f8",
   "metadata": {},
   "outputs": [
    {
     "data": {
      "image/png": "[encoded data removed]",
      "text/plain": [
       "<Figure size 432x288 with 1 Axes>"
      ]
     },
     "metadata": {
      "needs_background": "light"
     },
     "output_type": "display_data"
    }
   ],
   "source": [
    "import matplotlib.pyplot as plt\n",
    "plt.scatter(X_n[:,0],X_n[:,1])\n",
    "plt.xlabel('LGA_NAME')\n",
    "plt.ylabel('Toatal_Accidents')\n",
    "plt.show()"
   ]
  },
  {
   "cell_type": "code",
   "execution_count": 53,
   "id": "30c880a1",
   "metadata": {},
   "outputs": [],
   "source": [
    "time = df['ACCIDENT_TIME']\n",
    "j=0\n",
    "t=[]\n",
    "for i in time:\n",
    "   t.append(int(i[0:2])) \n",
    "   j+=1\n",
    "\n",
    "import math\n",
    "j=0\n",
    "for i in t:\n",
    "    t[j] = i//3\n",
    "    j+=1\n",
    "    \n",
    "deathpertime={}\n",
    "for i,j in zip(X_n[:,1],t):\n",
    "    if j in deathpertime:\n",
    "        deathpertime[j] += i\n",
    "    else:\n",
    "        deathpertime[j] = i"
   ]
  },
  {
   "cell_type": "code",
   "execution_count": 54,
   "id": "e5bdc14a",
   "metadata": {},
   "outputs": [],
   "source": [
    "val=[]\n",
    "for i in sorted(deathpertime):\n",
    "    val.append(deathpertime[i])\n",
    "    \n",
    "label = ['12am-3am','3am-6am','6am-9am','9am-12pm','12pm-3pm','3pm-6pm','6pm-9pm','9pm-12am']"
   ]
  },
  {
   "cell_type": "code",
   "execution_count": 55,
   "id": "44db1636",
   "metadata": {},
   "outputs": [
    {
     "data": {
      "image/png": "[encoded data removed]",
      "text/plain": [
       "<Figure size 720x360 with 1 Axes>"
      ]
     },
     "metadata": {
      "needs_background": "light"
     },
     "output_type": "display_data"
    }
   ],
   "source": [
    "plt.figure(figsize=(10,5))\n",
    "plt.bar([0,1,2,3,4,5,6,7],val) \n",
    "plt.xticks([0,1,2,3,4,5,6,7],label)\n",
    "plt.xlabel('Time (3-hour period)')\n",
    "plt.ylabel('Number of accidents')\n",
    "plt.show()"
   ]
  },
  {
   "cell_type": "code",
   "execution_count": 56,
   "id": "e54e6032",
   "metadata": {},
   "outputs": [
    {
     "data": {
      "image/png": "[encoded data removed]",
      "text/plain": [
       "<Figure size 432x288 with 1 Axes>"
      ]
     },
     "metadata": {},
     "output_type": "display_data"
    }
   ],
   "source": [
    "plt.pie(val,labels=label,autopct='%1.1f%%')\n",
    "plt.axis('equal')\n",
    "plt.xlabel('Percentage of Accidents per 3-hour period')\n",
    "plt.show()"
   ]
  },
  {
   "cell_type": "code",
   "execution_count": 59,
   "id": "91223a03",
   "metadata": {},
   "outputs": [],
   "source": [
    "import numpy as np\n",
    "X1 = df.iloc[:,:].values\n",
    "X1 = np.delete(X1,2,axis=1)\n",
    "X1 = np.delete(X1,1,axis=1)\n",
    "X1 = np.delete(X1,0,axis=1)\n",
    "names = (df.columns.values)\n",
    "names = names[3:]"
   ]
  },
  {
   "cell_type": "code",
   "execution_count": 61,
   "id": "2bb230a7",
   "metadata": {},
   "outputs": [
    {
     "data": {
      "image/png": "[encoded data removed]",
      "text/plain": [
       "<Figure size 432x288 with 1 Axes>"
      ]
     },
     "metadata": {
      "needs_background": "light"
     },
     "output_type": "display_data"
    }
   ],
   "source": [
    "sns.countplot(x='LIGHT_CONDITION', hue='SEVERITY',data=df)\n",
    "plt.show()"
   ]
  },
  {
   "cell_type": "code",
   "execution_count": 62,
   "id": "281b13cd",
   "metadata": {},
   "outputs": [
    {
     "data": {
      "image/png": "[encoded data removed]",
      "text/plain": [
       "<Figure size 432x288 with 1 Axes>"
      ]
     },
     "metadata": {
      "needs_background": "light"
     },
     "output_type": "display_data"
    }
   ],
   "source": [
    "sns.countplot(x='SEVERITY',hue='ALCOHOLTIME',data=df)\n",
    "plt.show()"
   ]
  },
  {
   "cell_type": "code",
   "execution_count": 63,
   "id": "6ed90358",
   "metadata": {},
   "outputs": [
    {
     "data": {
      "image/png": "[encoded data removed]",
      "text/plain": [
       "<Figure size 432x288 with 1 Axes>"
      ]
     },
     "metadata": {
      "needs_background": "light"
     },
     "output_type": "display_data"
    }
   ],
   "source": [
    "sns.countplot(x='LIGHT_CONDITION',hue='ALCOHOLTIME',data=df)\n",
    "plt.show()"
   ]
  },
  {
   "cell_type": "code",
   "execution_count": 64,
   "id": "928ff538",
   "metadata": {},
   "outputs": [
    {
     "data": {
      "image/png": "[encoded data removed]",
      "text/plain": [
       "<Figure size 432x288 with 1 Axes>"
      ]
     },
     "metadata": {
      "needs_background": "light"
     },
     "output_type": "display_data"
    }
   ],
   "source": [
    "sns.countplot(x='SEVERITY',hue='SPEED_ZONE',data=df)\n",
    "plt.show()"
   ]
  },
  {
   "cell_type": "code",
   "execution_count": 65,
   "id": "fa166bdd",
   "metadata": {},
   "outputs": [
    {
     "data": {
      "image/png": "[encoded data removed]",
      "text/plain": [
       "<Figure size 432x288 with 1 Axes>"
      ]
     },
     "metadata": {
      "needs_background": "light"
     },
     "output_type": "display_data"
    }
   ],
   "source": [
    "sns.countplot(x='POLICE_ATTEND',hue='SPEED_ZONE',data=df)\n",
    "plt.show()"
   ]
  },
  {
   "cell_type": "code",
   "execution_count": 66,
   "id": "783b2381",
   "metadata": {},
   "outputs": [
    {
     "data": {
      "image/png": "[encoded data removed]",
      "text/plain": [
       "<Figure size 432x288 with 1 Axes>"
      ]
     },
     "metadata": {
      "needs_background": "light"
     },
     "output_type": "display_data"
    }
   ],
   "source": [
    "sns.countplot(x='FEMALES',hue='SEVERITY',data=df)\n",
    "plt.show()"
   ]
  },
  {
   "cell_type": "code",
   "execution_count": null,
   "id": "2fec5f9a",
   "metadata": {},
   "outputs": [],
   "source": []
  }
 ],
 "metadata": {
  "kernelspec": {
   "display_name": "Python 3 (ipykernel)",
   "language": "python",
   "name": "python3"
  },
  "language_info": {
   "codemirror_mode": {
    "name": "ipython",
    "version": 3
   },
   "file_extension": ".py",
   "mimetype": "text/x-python",
   "name": "python",
   "nbconvert_exporter": "python",
   "pygments_lexer": "ipython3",
   "version": "3.9.12"
  }
 },
 "nbformat": 4,
 "nbformat_minor": 5
}
