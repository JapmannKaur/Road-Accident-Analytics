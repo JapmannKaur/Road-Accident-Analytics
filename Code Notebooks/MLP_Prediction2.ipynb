{
 "cells": [
  {
   "cell_type": "code",
   "execution_count": 1,
   "id": "ed572ae9",
   "metadata": {},
   "outputs": [],
   "source": [
    "import pandas as pd\n",
    "import numpy as np\n",
    "import sklearn\n",
    "from keras.optimizers import SGD, RMSprop, Adadelta, Adagrad, Adam, Adamax\n",
    "from keras.models import Sequential\n",
    "from keras.layers.core import Dense, Activation, Flatten\n",
    "import keras\n",
    "from sklearn.model_selection import train_test_split\n",
    "from keras.utils import to_categorical"
   ]
  },
  {
   "cell_type": "code",
   "execution_count": 2,
   "id": "93ea5718",
   "metadata": {},
   "outputs": [
    {
     "data": {
      "text/html": [
       "<div>\n",
       "<style scoped>\n",
       "    .dataframe tbody tr th:only-of-type {\n",
       "        vertical-align: middle;\n",
       "    }\n",
       "\n",
       "    .dataframe tbody tr th {\n",
       "        vertical-align: top;\n",
       "    }\n",
       "\n",
       "    .dataframe thead th {\n",
       "        text-align: right;\n",
       "    }\n",
       "</style>\n",
       "<table border=\"1\" class=\"dataframe\">\n",
       "  <thead>\n",
       "    <tr style=\"text-align: right;\">\n",
       "      <th></th>\n",
       "      <th>Unnamed: 0</th>\n",
       "      <th>year</th>\n",
       "      <th>month</th>\n",
       "      <th>day</th>\n",
       "      <th>hour</th>\n",
       "      <th>ID</th>\n",
       "      <th>Severity</th>\n",
       "      <th>Start_Lat</th>\n",
       "      <th>Start_Lng</th>\n",
       "      <th>Street</th>\n",
       "      <th>...</th>\n",
       "      <th>Roundabout</th>\n",
       "      <th>Station</th>\n",
       "      <th>Stop</th>\n",
       "      <th>Traffic_Calming</th>\n",
       "      <th>Traffic_Signal</th>\n",
       "      <th>Turning_Loop</th>\n",
       "      <th>Sunrise_Sunset</th>\n",
       "      <th>Civil_Twilight</th>\n",
       "      <th>Nautical_Twilight</th>\n",
       "      <th>Astronomical_Twilight</th>\n",
       "    </tr>\n",
       "  </thead>\n",
       "  <tbody>\n",
       "    <tr>\n",
       "      <th>0</th>\n",
       "      <td>0</td>\n",
       "      <td>2016.0</td>\n",
       "      <td>2.0</td>\n",
       "      <td>8.0</td>\n",
       "      <td>0.0</td>\n",
       "      <td>0</td>\n",
       "      <td>3</td>\n",
       "      <td>40.10891</td>\n",
       "      <td>-83.09286</td>\n",
       "      <td>138865</td>\n",
       "      <td>...</td>\n",
       "      <td>0</td>\n",
       "      <td>0</td>\n",
       "      <td>0</td>\n",
       "      <td>0</td>\n",
       "      <td>0</td>\n",
       "      <td>0</td>\n",
       "      <td>1</td>\n",
       "      <td>1</td>\n",
       "      <td>1</td>\n",
       "      <td>1</td>\n",
       "    </tr>\n",
       "    <tr>\n",
       "      <th>1</th>\n",
       "      <td>1</td>\n",
       "      <td>2016.0</td>\n",
       "      <td>2.0</td>\n",
       "      <td>8.0</td>\n",
       "      <td>15.0</td>\n",
       "      <td>1</td>\n",
       "      <td>2</td>\n",
       "      <td>40.10931</td>\n",
       "      <td>-82.96849</td>\n",
       "      <td>138870</td>\n",
       "      <td>...</td>\n",
       "      <td>0</td>\n",
       "      <td>0</td>\n",
       "      <td>0</td>\n",
       "      <td>0</td>\n",
       "      <td>0</td>\n",
       "      <td>0</td>\n",
       "      <td>0</td>\n",
       "      <td>0</td>\n",
       "      <td>0</td>\n",
       "      <td>0</td>\n",
       "    </tr>\n",
       "    <tr>\n",
       "      <th>2</th>\n",
       "      <td>2</td>\n",
       "      <td>2016.0</td>\n",
       "      <td>3.0</td>\n",
       "      <td>23.0</td>\n",
       "      <td>7.0</td>\n",
       "      <td>2</td>\n",
       "      <td>2</td>\n",
       "      <td>37.71981</td>\n",
       "      <td>-121.65943</td>\n",
       "      <td>127201</td>\n",
       "      <td>...</td>\n",
       "      <td>0</td>\n",
       "      <td>0</td>\n",
       "      <td>0</td>\n",
       "      <td>0</td>\n",
       "      <td>0</td>\n",
       "      <td>0</td>\n",
       "      <td>1</td>\n",
       "      <td>0</td>\n",
       "      <td>0</td>\n",
       "      <td>0</td>\n",
       "    </tr>\n",
       "    <tr>\n",
       "      <th>3</th>\n",
       "      <td>3</td>\n",
       "      <td>2016.0</td>\n",
       "      <td>5.0</td>\n",
       "      <td>26.0</td>\n",
       "      <td>10.0</td>\n",
       "      <td>3</td>\n",
       "      <td>2</td>\n",
       "      <td>33.07353</td>\n",
       "      <td>-117.07029</td>\n",
       "      <td>118205</td>\n",
       "      <td>...</td>\n",
       "      <td>0</td>\n",
       "      <td>0</td>\n",
       "      <td>0</td>\n",
       "      <td>0</td>\n",
       "      <td>1</td>\n",
       "      <td>0</td>\n",
       "      <td>0</td>\n",
       "      <td>0</td>\n",
       "      <td>0</td>\n",
       "      <td>0</td>\n",
       "    </tr>\n",
       "    <tr>\n",
       "      <th>4</th>\n",
       "      <td>4</td>\n",
       "      <td>2016.0</td>\n",
       "      <td>5.0</td>\n",
       "      <td>20.0</td>\n",
       "      <td>16.0</td>\n",
       "      <td>4</td>\n",
       "      <td>2</td>\n",
       "      <td>40.10954</td>\n",
       "      <td>-75.29485</td>\n",
       "      <td>139706</td>\n",
       "      <td>...</td>\n",
       "      <td>0</td>\n",
       "      <td>0</td>\n",
       "      <td>0</td>\n",
       "      <td>0</td>\n",
       "      <td>0</td>\n",
       "      <td>0</td>\n",
       "      <td>0</td>\n",
       "      <td>0</td>\n",
       "      <td>0</td>\n",
       "      <td>0</td>\n",
       "    </tr>\n",
       "  </tbody>\n",
       "</table>\n",
       "<p>5 rows × 42 columns</p>\n",
       "</div>"
      ],
      "text/plain": [
       "   Unnamed: 0    year  month   day  hour  ID  Severity  Start_Lat  Start_Lng  \\\n",
       "0           0  2016.0    2.0   8.0   0.0   0         3   40.10891  -83.09286   \n",
       "1           1  2016.0    2.0   8.0  15.0   1         2   40.10931  -82.96849   \n",
       "2           2  2016.0    3.0  23.0   7.0   2         2   37.71981 -121.65943   \n",
       "3           3  2016.0    5.0  26.0  10.0   3         2   33.07353 -117.07029   \n",
       "4           4  2016.0    5.0  20.0  16.0   4         2   40.10954  -75.29485   \n",
       "\n",
       "   Street  ...  Roundabout  Station  Stop  Traffic_Calming  Traffic_Signal  \\\n",
       "0  138865  ...           0        0     0                0               0   \n",
       "1  138870  ...           0        0     0                0               0   \n",
       "2  127201  ...           0        0     0                0               0   \n",
       "3  118205  ...           0        0     0                0               1   \n",
       "4  139706  ...           0        0     0                0               0   \n",
       "\n",
       "   Turning_Loop  Sunrise_Sunset  Civil_Twilight  Nautical_Twilight  \\\n",
       "0             0               1               1                  1   \n",
       "1             0               0               0                  0   \n",
       "2             0               1               0                  0   \n",
       "3             0               0               0                  0   \n",
       "4             0               0               0                  0   \n",
       "\n",
       "   Astronomical_Twilight  \n",
       "0                      1  \n",
       "1                      0  \n",
       "2                      0  \n",
       "3                      0  \n",
       "4                      0  \n",
       "\n",
       "[5 rows x 42 columns]"
      ]
     },
     "execution_count": 2,
     "metadata": {},
     "output_type": "execute_result"
    }
   ],
   "source": [
    "df=pd.read_csv('Mydata5.csv')\n",
    "df.head()"
   ]
  },
  {
   "cell_type": "code",
   "execution_count": 3,
   "id": "2072f0d4",
   "metadata": {},
   "outputs": [
    {
     "data": {
      "text/plain": [
       "Index(['Unnamed: 0', 'year', 'month', 'day', 'hour', 'ID', 'Severity',\n",
       "       'Start_Lat', 'Start_Lng', 'Street', 'Side', 'City', 'County', 'State',\n",
       "       'Zipcode', 'Country', 'Temperature(F)', 'Wind_Chill(F)', 'Humidity(%)',\n",
       "       'Pressure(in)', 'Visibility(mi)', 'Wind_Direction', 'Wind_Speed(mph)',\n",
       "       'Precipitation(in)', 'Weather_Condition', 'Amenity', 'Bump', 'Crossing',\n",
       "       'Give_Way', 'Junction', 'No_Exit', 'Railway', 'Roundabout', 'Station',\n",
       "       'Stop', 'Traffic_Calming', 'Traffic_Signal', 'Turning_Loop',\n",
       "       'Sunrise_Sunset', 'Civil_Twilight', 'Nautical_Twilight',\n",
       "       'Astronomical_Twilight'],\n",
       "      dtype='object')"
      ]
     },
     "execution_count": 3,
     "metadata": {},
     "output_type": "execute_result"
    }
   ],
   "source": [
    "df.columns"
   ]
  },
  {
   "cell_type": "code",
   "execution_count": 4,
   "id": "efde8d27",
   "metadata": {},
   "outputs": [],
   "source": [
    "data=df[['Astronomical_Twilight', 'Civil_Twilight', 'Humidity(%)', 'Nautical_Twilight', 'Precipitation(in)', 'Pressure(in)', 'Sunrise_Sunset', 'Temperature(F)', 'Visibility(mi)', 'Weather_Condition', 'Wind_Chill(F)', 'Wind_Direction', 'Wind_Speed(mph)', 'Severity']].values"
   ]
  },
  {
   "cell_type": "code",
   "execution_count": 5,
   "id": "f373ea41",
   "metadata": {},
   "outputs": [],
   "source": [
    "x=data[:, 0: 13]\n",
    "y=data[:, 13]"
   ]
  },
  {
   "cell_type": "code",
   "execution_count": 6,
   "id": "4e7edf81",
   "metadata": {},
   "outputs": [],
   "source": [
    "xtrain, xtest, ytrain, ytest=train_test_split(x, y, test_size=.2)"
   ]
  },
  {
   "cell_type": "code",
   "execution_count": 7,
   "id": "5e1c0ab9",
   "metadata": {},
   "outputs": [],
   "source": [
    "ytrain = to_categorical(ytrain.astype('float32'))"
   ]
  },
  {
   "cell_type": "code",
   "execution_count": 8,
   "id": "eeaaa182",
   "metadata": {},
   "outputs": [
    {
     "name": "stdout",
     "output_type": "stream",
     "text": [
      "Model: \"sequential\"\n",
      "_________________________________________________________________\n",
      " Layer (type)                Output Shape              Param #   \n",
      "=================================================================\n",
      " dense (Dense)               (None, 25)                350       \n",
      "                                                                 \n",
      " dense_1 (Dense)             (None, 50)                1300      \n",
      "                                                                 \n",
      " dense_2 (Dense)             (None, 5)                 255       \n",
      "                                                                 \n",
      "=================================================================\n",
      "Total params: 1,905\n",
      "Trainable params: 1,905\n",
      "Non-trainable params: 0\n",
      "_________________________________________________________________\n"
     ]
    }
   ],
   "source": [
    "model = Sequential()\n",
    "model.add(Dense(25, input_dim=13, activation= \"sigmoid\"))\n",
    "model.add(Dense(50, activation= \"sigmoid\"))\n",
    "model.add(Dense(5, activation=\"sigmoid\"))\n",
    "model.summary() "
   ]
  },
  {
   "cell_type": "code",
   "execution_count": 9,
   "id": "d09db5b5",
   "metadata": {},
   "outputs": [],
   "source": [
    "opt = SGD()\n",
    "model.compile(loss='categorical_crossentropy', optimizer=opt,  metrics=['accuracy'])"
   ]
  },
  {
   "cell_type": "code",
   "execution_count": 11,
   "id": "c7e66a16",
   "metadata": {},
   "outputs": [
    {
     "name": "stdout",
     "output_type": "stream",
     "text": [
      "Epoch 1/10\n",
      "68875/68875 [==============================] - 78s 1ms/step - loss: 0.4216 - accuracy: 0.8903\n",
      "Epoch 2/10\n",
      "68875/68875 [==============================] - 87s 1ms/step - loss: 0.4118 - accuracy: 0.8904\n",
      "Epoch 3/10\n",
      "68875/68875 [==============================] - 84s 1ms/step - loss: 0.4093 - accuracy: 0.8904\n",
      "Epoch 4/10\n",
      "68875/68875 [==============================] - 74s 1ms/step - loss: 0.4081 - accuracy: 0.8904\n",
      "Epoch 5/10\n",
      "68875/68875 [==============================] - 75s 1ms/step - loss: 0.4068 - accuracy: 0.8904\n",
      "Epoch 6/10\n",
      "68875/68875 [==============================] - 82s 1ms/step - loss: 0.4055 - accuracy: 0.8904\n",
      "Epoch 7/10\n",
      "68875/68875 [==============================] - 102s 1ms/step - loss: 0.4044 - accuracy: 0.8904\n",
      "Epoch 8/10\n",
      "68875/68875 [==============================] - 89s 1ms/step - loss: 0.4036 - accuracy: 0.8904\n",
      "Epoch 9/10\n",
      "68875/68875 [==============================] - 97s 1ms/step - loss: 0.4030 - accuracy: 0.8904\n",
      "Epoch 10/10\n",
      "68875/68875 [==============================] - 93s 1ms/step - loss: 0.4026 - accuracy: 0.8904\n"
     ]
    },
    {
     "data": {
      "text/plain": [
       "<keras.callbacks.History at 0x21e15ca5580>"
      ]
     },
     "execution_count": 11,
     "metadata": {},
     "output_type": "execute_result"
    }
   ],
   "source": [
    "model.fit(xtrain, ytrain, epochs=10, batch_size=32)"
   ]
  },
  {
   "cell_type": "code",
   "execution_count": 12,
   "id": "4c0d0e18",
   "metadata": {},
   "outputs": [
    {
     "name": "stdout",
     "output_type": "stream",
     "text": [
      "INFO:tensorflow:Assets written to: train2.model\\assets\n"
     ]
    }
   ],
   "source": [
    "model.save(\"train2.model\")"
   ]
  },
  {
   "cell_type": "code",
   "execution_count": 13,
   "id": "e6a84dc1",
   "metadata": {},
   "outputs": [],
   "source": [
    "ytest = to_categorical(ytest.astype('float32'))"
   ]
  },
  {
   "cell_type": "code",
   "execution_count": 14,
   "id": "45c90af5",
   "metadata": {},
   "outputs": [
    {
     "name": "stdout",
     "output_type": "stream",
     "text": [
      "17219/17219 [==============================] - 14s 818us/step - loss: 0.4044 - accuracy: 0.8906\n"
     ]
    }
   ],
   "source": [
    "score, acc = model.evaluate(xtest, ytest)"
   ]
  },
  {
   "cell_type": "code",
   "execution_count": 16,
   "id": "bae5a07d",
   "metadata": {},
   "outputs": [
    {
     "name": "stdout",
     "output_type": "stream",
     "text": [
      "89.0568494796753\n"
     ]
    }
   ],
   "source": [
    "print(acc*100)"
   ]
  },
  {
   "cell_type": "code",
   "execution_count": 17,
   "id": "bdf41168",
   "metadata": {},
   "outputs": [],
   "source": [
    "d=df[['Astronomical_Twilight', 'Civil_Twilight', 'Humidity(%)', 'Nautical_Twilight', 'Precipitation(in)', 'Pressure(in)', 'Sunrise_Sunset', 'Temperature(F)', 'Visibility(mi)', 'Weather_Condition', 'Wind_Chill(F)', 'Wind_Direction', 'Wind_Speed(mph)', 'Severity']]"
   ]
  },
  {
   "cell_type": "code",
   "execution_count": 18,
   "id": "e9639540",
   "metadata": {},
   "outputs": [
    {
     "data": {
      "text/html": [
       "<div>\n",
       "<style scoped>\n",
       "    .dataframe tbody tr th:only-of-type {\n",
       "        vertical-align: middle;\n",
       "    }\n",
       "\n",
       "    .dataframe tbody tr th {\n",
       "        vertical-align: top;\n",
       "    }\n",
       "\n",
       "    .dataframe thead th {\n",
       "        text-align: right;\n",
       "    }\n",
       "</style>\n",
       "<table border=\"1\" class=\"dataframe\">\n",
       "  <thead>\n",
       "    <tr style=\"text-align: right;\">\n",
       "      <th></th>\n",
       "      <th>Astronomical_Twilight</th>\n",
       "      <th>Civil_Twilight</th>\n",
       "      <th>Humidity(%)</th>\n",
       "      <th>Nautical_Twilight</th>\n",
       "      <th>Precipitation(in)</th>\n",
       "      <th>Pressure(in)</th>\n",
       "      <th>Sunrise_Sunset</th>\n",
       "      <th>Temperature(F)</th>\n",
       "      <th>Visibility(mi)</th>\n",
       "      <th>Weather_Condition</th>\n",
       "      <th>Wind_Chill(F)</th>\n",
       "      <th>Wind_Direction</th>\n",
       "      <th>Wind_Speed(mph)</th>\n",
       "      <th>Severity</th>\n",
       "    </tr>\n",
       "  </thead>\n",
       "  <tbody>\n",
       "    <tr>\n",
       "      <th>0</th>\n",
       "      <td>1</td>\n",
       "      <td>1</td>\n",
       "      <td>58.0</td>\n",
       "      <td>1</td>\n",
       "      <td>0.00</td>\n",
       "      <td>29.76</td>\n",
       "      <td>1</td>\n",
       "      <td>42.1</td>\n",
       "      <td>10.0</td>\n",
       "      <td>55</td>\n",
       "      <td>36.100000</td>\n",
       "      <td>16</td>\n",
       "      <td>10.400000</td>\n",
       "      <td>3</td>\n",
       "    </tr>\n",
       "    <tr>\n",
       "      <th>1</th>\n",
       "      <td>0</td>\n",
       "      <td>0</td>\n",
       "      <td>100.0</td>\n",
       "      <td>0</td>\n",
       "      <td>0.05</td>\n",
       "      <td>29.59</td>\n",
       "      <td>0</td>\n",
       "      <td>32.0</td>\n",
       "      <td>0.5</td>\n",
       "      <td>101</td>\n",
       "      <td>28.700000</td>\n",
       "      <td>23</td>\n",
       "      <td>3.500000</td>\n",
       "      <td>2</td>\n",
       "    </tr>\n",
       "    <tr>\n",
       "      <th>2</th>\n",
       "      <td>0</td>\n",
       "      <td>0</td>\n",
       "      <td>93.0</td>\n",
       "      <td>0</td>\n",
       "      <td>0.00</td>\n",
       "      <td>30.27</td>\n",
       "      <td>1</td>\n",
       "      <td>39.0</td>\n",
       "      <td>10.0</td>\n",
       "      <td>6</td>\n",
       "      <td>40.254676</td>\n",
       "      <td>1</td>\n",
       "      <td>8.438017</td>\n",
       "      <td>2</td>\n",
       "    </tr>\n",
       "    <tr>\n",
       "      <th>3</th>\n",
       "      <td>0</td>\n",
       "      <td>0</td>\n",
       "      <td>72.0</td>\n",
       "      <td>0</td>\n",
       "      <td>0.00</td>\n",
       "      <td>30.06</td>\n",
       "      <td>0</td>\n",
       "      <td>63.0</td>\n",
       "      <td>10.0</td>\n",
       "      <td>78</td>\n",
       "      <td>50.760306</td>\n",
       "      <td>15</td>\n",
       "      <td>5.800000</td>\n",
       "      <td>2</td>\n",
       "    </tr>\n",
       "    <tr>\n",
       "      <th>4</th>\n",
       "      <td>0</td>\n",
       "      <td>0</td>\n",
       "      <td>33.0</td>\n",
       "      <td>0</td>\n",
       "      <td>0.00</td>\n",
       "      <td>30.19</td>\n",
       "      <td>0</td>\n",
       "      <td>71.6</td>\n",
       "      <td>10.0</td>\n",
       "      <td>6</td>\n",
       "      <td>36.527667</td>\n",
       "      <td>1</td>\n",
       "      <td>10.660172</td>\n",
       "      <td>2</td>\n",
       "    </tr>\n",
       "  </tbody>\n",
       "</table>\n",
       "</div>"
      ],
      "text/plain": [
       "   Astronomical_Twilight  Civil_Twilight  Humidity(%)  Nautical_Twilight  \\\n",
       "0                      1               1         58.0                  1   \n",
       "1                      0               0        100.0                  0   \n",
       "2                      0               0         93.0                  0   \n",
       "3                      0               0         72.0                  0   \n",
       "4                      0               0         33.0                  0   \n",
       "\n",
       "   Precipitation(in)  Pressure(in)  Sunrise_Sunset  Temperature(F)  \\\n",
       "0               0.00         29.76               1            42.1   \n",
       "1               0.05         29.59               0            32.0   \n",
       "2               0.00         30.27               1            39.0   \n",
       "3               0.00         30.06               0            63.0   \n",
       "4               0.00         30.19               0            71.6   \n",
       "\n",
       "   Visibility(mi)  Weather_Condition  Wind_Chill(F)  Wind_Direction  \\\n",
       "0            10.0                 55      36.100000              16   \n",
       "1             0.5                101      28.700000              23   \n",
       "2            10.0                  6      40.254676               1   \n",
       "3            10.0                 78      50.760306              15   \n",
       "4            10.0                  6      36.527667               1   \n",
       "\n",
       "   Wind_Speed(mph)  Severity  \n",
       "0        10.400000         3  \n",
       "1         3.500000         2  \n",
       "2         8.438017         2  \n",
       "3         5.800000         2  \n",
       "4        10.660172         2  "
      ]
     },
     "execution_count": 18,
     "metadata": {},
     "output_type": "execute_result"
    }
   ],
   "source": [
    "d.head()"
   ]
  },
  {
   "cell_type": "code",
   "execution_count": 19,
   "id": "86f74cbf",
   "metadata": {},
   "outputs": [],
   "source": [
    "predx=np.array([[1, 0, 56.0, 0, 0.03, 30.09, 0, 90.78, 7.0, 7, 23.90, 7, 8.9]])"
   ]
  },
  {
   "cell_type": "code",
   "execution_count": 20,
   "id": "9c0bdf11",
   "metadata": {},
   "outputs": [
    {
     "name": "stdout",
     "output_type": "stream",
     "text": [
      "1/1 [==============================] - 0s 85ms/step\n"
     ]
    }
   ],
   "source": [
    "ypred=model.predict(predx).reshape(-1)"
   ]
  },
  {
   "cell_type": "code",
   "execution_count": 21,
   "id": "9b0de98d",
   "metadata": {},
   "outputs": [
    {
     "name": "stdout",
     "output_type": "stream",
     "text": [
      "class :  2\n"
     ]
    }
   ],
   "source": [
    "print(\"class : \", np.argmax(ypred))"
   ]
  },
  {
   "cell_type": "code",
   "execution_count": null,
   "id": "118679ff",
   "metadata": {},
   "outputs": [],
   "source": []
  }
 ],
 "metadata": {
  "kernelspec": {
   "display_name": "Python 3 (ipykernel)",
   "language": "python",
   "name": "python3"
  },
  "language_info": {
   "codemirror_mode": {
    "name": "ipython",
    "version": 3
   },
   "file_extension": ".py",
   "mimetype": "text/x-python",
   "name": "python",
   "nbconvert_exporter": "python",
   "pygments_lexer": "ipython3",
   "version": "3.9.12"
  }
 },
 "nbformat": 4,
 "nbformat_minor": 5
}
